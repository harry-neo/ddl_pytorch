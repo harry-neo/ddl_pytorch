{
 "cells": [
  {
   "cell_type": "markdown",
   "id": "91eac50b-91be-4e22-b831-356f083a7241",
   "metadata": {},
   "source": [
    "# **Data Manipulation**\n"
   ]
  },
  {
   "cell_type": "markdown",
   "id": "84b50a1c-1844-4799-86f2-edb983f3390e",
   "metadata": {},
   "source": [
    "## **1. *n-dimensional* arrays**\n",
    "\n",
    "*Tensor* in PyTorch and TensorFlow resembles NumPy's ndarray, but with additional features\n",
    "- *Tensor* class supports automatic differentiation\n",
    "- *Tensor* class leverages GPUs to accelerate numerical computation, whereas NumPy only runs on CPUs\n",
    "\n",
    "Note:\n",
    "A *tensor* represents a (possibly multi-dimensinal) array of numerical values.\n",
    "- A *tensor* with one axis is called a Vector\n",
    "- A *tensor* with two axis is called a Matrix\n",
    "- *Tensor* with $ k > 2 $ axis are referred as $ k^{th} order\\ tensor $ "
   ]
  },
  {
   "cell_type": "code",
   "execution_count": 1,
   "id": "e05fdff7-faac-4186-a373-77580b3a5ac1",
   "metadata": {},
   "outputs": [],
   "source": [
    "import torch"
   ]
  },
  {
   "cell_type": "code",
   "execution_count": 6,
   "id": "1f8d1183-c84d-41f5-a724-7af663a4c696",
   "metadata": {},
   "outputs": [
    {
     "data": {
      "text/plain": [
       "tensor([ 0.,  1.,  2.,  3.,  4.,  5.,  6.,  7.,  8.,  9., 10., 11.])"
      ]
     },
     "execution_count": 6,
     "metadata": {},
     "output_type": "execute_result"
    }
   ],
   "source": [
    "# arange(n) - create a vector of evenly spaced values, 0 inclusive, n exclusive\n",
    "x = torch.arange(12, dtype=torch.float32)\n",
    "x"
   ]
  },
  {
   "cell_type": "code",
   "execution_count": 7,
   "id": "616bf5d3-d118-42bd-a67b-42d4141067ce",
   "metadata": {},
   "outputs": [
    {
     "data": {
      "text/plain": [
       "12"
      ]
     },
     "execution_count": 7,
     "metadata": {},
     "output_type": "execute_result"
    }
   ],
   "source": [
    "# numel() - total number of elements in a tensor\n",
    "x.numel()"
   ]
  },
  {
   "cell_type": "code",
   "execution_count": 10,
   "id": "6b9a366a-c5e2-41ce-b3cc-885662b9a144",
   "metadata": {},
   "outputs": [
    {
     "data": {
      "text/plain": [
       "torch.Size([12])"
      ]
     },
     "execution_count": 10,
     "metadata": {},
     "output_type": "execute_result"
    }
   ],
   "source": [
    "# tensor's shape is the length along each axis\n",
    "x.shape"
   ]
  },
  {
   "cell_type": "code",
   "execution_count": 11,
   "id": "cbe7ad93-5c19-4ad3-9329-aab99348691a",
   "metadata": {},
   "outputs": [
    {
     "data": {
      "text/plain": [
       "tensor([[ 0.,  1.,  2.,  3.],\n",
       "        [ 4.,  5.,  6.,  7.],\n",
       "        [ 8.,  9., 10., 11.]])"
      ]
     },
     "execution_count": 11,
     "metadata": {},
     "output_type": "execute_result"
    }
   ],
   "source": [
    "X = x.reshape(3, 4)\n",
    "X"
   ]
  },
  {
   "cell_type": "code",
   "execution_count": 12,
   "id": "6dc163d4-d57f-48f5-a9d8-568d1d901814",
   "metadata": {},
   "outputs": [
    {
     "data": {
      "text/plain": [
       "tensor([[ 0.,  1.,  2.],\n",
       "        [ 3.,  4.,  5.],\n",
       "        [ 6.,  7.,  8.],\n",
       "        [ 9., 10., 11.]])"
      ]
     },
     "execution_count": 12,
     "metadata": {},
     "output_type": "execute_result"
    }
   ],
   "source": [
    "X = x.reshape(-1, 3)\n",
    "X"
   ]
  },
  {
   "cell_type": "code",
   "execution_count": 15,
   "id": "6d1a9064-b037-4672-ae75-b35ddfd3fbef",
   "metadata": {},
   "outputs": [
    {
     "data": {
      "text/plain": [
       "tensor([[[0., 0., 0., 0.],\n",
       "         [0., 0., 0., 0.],\n",
       "         [0., 0., 0., 0.]],\n",
       "\n",
       "        [[0., 0., 0., 0.],\n",
       "         [0., 0., 0., 0.],\n",
       "         [0., 0., 0., 0.]]])"
      ]
     },
     "execution_count": 15,
     "metadata": {},
     "output_type": "execute_result"
    }
   ],
   "source": [
    "# Zero tensor\n",
    "y = torch.zeros((2, 3, 4))\n",
    "y"
   ]
  },
  {
   "cell_type": "code",
   "execution_count": 16,
   "id": "be222407-9921-43f1-b536-677b55a38f29",
   "metadata": {},
   "outputs": [
    {
     "data": {
      "text/plain": [
       "24"
      ]
     },
     "execution_count": 16,
     "metadata": {},
     "output_type": "execute_result"
    }
   ],
   "source": [
    "y.numel()"
   ]
  },
  {
   "cell_type": "code",
   "execution_count": 17,
   "id": "b7365544-8a52-4fac-8d55-6042e22f263f",
   "metadata": {},
   "outputs": [
    {
     "data": {
      "text/plain": [
       "torch.Size([2, 3, 4])"
      ]
     },
     "execution_count": 17,
     "metadata": {},
     "output_type": "execute_result"
    }
   ],
   "source": [
    "y.shape"
   ]
  },
  {
   "cell_type": "code",
   "execution_count": 20,
   "id": "2b1bfd2c-5d12-48aa-8552-8e2c025cb219",
   "metadata": {},
   "outputs": [
    {
     "data": {
      "text/plain": [
       "tensor([[[1., 1., 1., 1., 1.],\n",
       "         [1., 1., 1., 1., 1.]],\n",
       "\n",
       "        [[1., 1., 1., 1., 1.],\n",
       "         [1., 1., 1., 1., 1.]],\n",
       "\n",
       "        [[1., 1., 1., 1., 1.],\n",
       "         [1., 1., 1., 1., 1.]]])"
      ]
     },
     "execution_count": 20,
     "metadata": {},
     "output_type": "execute_result"
    }
   ],
   "source": [
    "# tensor of all One's\n",
    "torch.ones((3, 2, 5))"
   ]
  },
  {
   "cell_type": "code",
   "execution_count": 21,
   "id": "d7d1862b-1a31-4eb6-ba8b-4d326e63fb1c",
   "metadata": {},
   "outputs": [
    {
     "data": {
      "text/plain": [
       "tensor([[-0.2568, -0.7483, -0.1985, -0.8295, -0.2876],\n",
       "        [ 0.4790, -0.2002, -2.0866, -1.1152,  2.3277],\n",
       "        [-0.2953,  2.6795,  1.2310, -1.4715,  1.2286],\n",
       "        [-0.5123,  0.5501, -0.9516, -1.4438, -1.1373]])"
      ]
     },
     "execution_count": 21,
     "metadata": {},
     "output_type": "execute_result"
    }
   ],
   "source": [
    "# tensors of random values\n",
    "# torch.randn() - create a tensor whos elements are from a standard Gaussian distribution with mean 0 and standard devialtion 1.\n",
    "torch.randn(4,5)"
   ]
  },
  {
   "cell_type": "code",
   "execution_count": 23,
   "id": "9ddf0aa2-4ff1-4a2a-a55b-965cc60ba1a5",
   "metadata": {},
   "outputs": [
    {
     "name": "stdout",
     "output_type": "stream",
     "text": [
      "tensor([[2, 5, 7],\n",
      "        [1, 3, 6],\n",
      "        [8, 9, 0]])\n",
      "torch.Size([3, 3])\n"
     ]
    }
   ],
   "source": [
    "z = torch.tensor([[2,5,7],[1,3,6],[8,9,0]])\n",
    "print(z)\n",
    "print(z.shape)"
   ]
  },
  {
   "cell_type": "markdown",
   "id": "4fe5ac04-8496-4cdd-b32c-15a2d77feedb",
   "metadata": {},
   "source": [
    "## **2. *Indexing* and *Slicing***\n",
    "\n",
    "*tensor* elements are inedexed strating with 0\n",
    "- $'-'ve $ indexing used to access elements based on its position relative to the end of the list\n",
    "- $ X[start:stop] $ - returns values includes index start(inclusive) to end (exclusive)\n",
    "- with only one index(or slice) is specified for $k^{th}$ order tensor, it is applied along axis 0"
   ]
  },
  {
   "cell_type": "code",
   "execution_count": 33,
   "id": "dde2afc2-6427-4f08-a5cd-3431ae0c5d19",
   "metadata": {},
   "outputs": [
    {
     "name": "stdout",
     "output_type": "stream",
     "text": [
      "tensor([[ 0.,  1.,  2.],\n",
      "        [ 3.,  4.,  5.],\n",
      "        [ 6.,  7.,  8.],\n",
      "        [ 9., 10., 11.]])\n",
      "torch.Size([4, 3])\n",
      "tensor([ 9., 10., 11.])\n",
      "tensor([[3., 4., 5.],\n",
      "        [6., 7., 8.]])\n"
     ]
    }
   ],
   "source": [
    "print(X)\n",
    "print(X.shape)\n",
    "print(X[-1]) # selects the last row\n",
    "print(X[1:3]) # selcets the second and third rows"
   ]
  },
  {
   "cell_type": "code",
   "execution_count": 36,
   "id": "beac0107-b9f7-4d02-84b6-a600dc39ef9f",
   "metadata": {},
   "outputs": [
    {
     "name": "stdout",
     "output_type": "stream",
     "text": [
      "tensor(5.)\n",
      "tensor([[ 0.,  1.,  2.],\n",
      "        [ 3.,  4., 17.],\n",
      "        [ 6.,  7.,  8.],\n",
      "        [ 9., 10., 11.]])\n"
     ]
    }
   ],
   "source": [
    "print(X[1,2])\n",
    "X[1,2] = 17\n",
    "print(X)"
   ]
  },
  {
   "cell_type": "code",
   "execution_count": 67,
   "id": "073dfc61-5a8c-47e6-8c86-6dbbf4554527",
   "metadata": {},
   "outputs": [
    {
     "name": "stdout",
     "output_type": "stream",
     "text": [
      "tensor([[-7., -7., -7.],\n",
      "        [-7., -7., -7.],\n",
      "        [-7., -7., -7.]])\n",
      "tensor([[-7., -7., -7.],\n",
      "        [-7., -7., -7.],\n",
      "        [-7., -7., -7.],\n",
      "        [ 9., 10., 11.]])\n"
     ]
    }
   ],
   "source": [
    "# assign multiple elements the same value\n",
    "print(X[:3, :]) # selects 1st, 2nd and 3rd row and all cloumns\n",
    "X[:3, :] = -7\n",
    "print(X)"
   ]
  },
  {
   "cell_type": "markdown",
   "id": "f1a7229f-b332-4d47-b53c-cd8df9d7a89b",
   "metadata": {},
   "source": [
    "## **3. *Opeartions***"
   ]
  },
  {
   "cell_type": "code",
   "execution_count": 41,
   "id": "66ae7a59-7cca-4c4c-b191-89c4841a9311",
   "metadata": {},
   "outputs": [
    {
     "name": "stdout",
     "output_type": "stream",
     "text": [
      "tensor([-7., -7., -7., -7., -7., -7., -7., -7., -7.,  9., 10., 11.])\n",
      "tensor([9.1188e-04, 9.1188e-04, 9.1188e-04, 9.1188e-04, 9.1188e-04, 9.1188e-04,\n",
      "        9.1188e-04, 9.1188e-04, 9.1188e-04, 8.1031e+03, 2.2026e+04, 5.9874e+04])\n"
     ]
    }
   ],
   "source": [
    "# elementwise operation\n",
    "print(x)\n",
    "print(torch.exp(x))"
   ]
  },
  {
   "cell_type": "code",
   "execution_count": 45,
   "id": "9195793a-2ae3-40f0-acda-cee1e237c0f6",
   "metadata": {},
   "outputs": [
    {
     "data": {
      "text/plain": [
       "(tensor([ 3.0000, 11.5000, -6.1000,  1.6000]),\n",
       " tensor([-1.0000, -2.5000, 11.9000, -8.4000]),\n",
       " tensor([  2.0000,  31.5000, -26.1000, -17.0000]),\n",
       " tensor([ 0.5000,  0.6429, -0.3222, -0.6800]))"
      ]
     },
     "execution_count": 45,
     "metadata": {},
     "output_type": "execute_result"
    }
   ],
   "source": [
    "x = torch.tensor([1.0, 4.5, 2.9, -3.4])\n",
    "y = torch.tensor([2, 7, -9, 5])\n",
    "x + y, x - y, x * y , x / y "
   ]
  },
  {
   "cell_type": "code",
   "execution_count": 61,
   "id": "16a2c689-9c14-4c40-8680-e85b8b3a3ad0",
   "metadata": {},
   "outputs": [
    {
     "name": "stdout",
     "output_type": "stream",
     "text": [
      "tensor([[-0.0799, -0.1928,  0.1779,  0.3879],\n",
      "        [-0.3728,  1.0827,  0.4407, -0.2011],\n",
      "        [-0.4438,  1.5737, -0.6165, -0.4128]])\n",
      "torch.Size([3, 4])\n",
      "tensor([[2., 1., 4., 3.],\n",
      "        [1., 2., 3., 4.],\n",
      "        [4., 3., 2., 1.]])\n",
      "torch.Size([3, 4])\n"
     ]
    }
   ],
   "source": [
    "# Concatenating multiple tensors\n",
    "A = torch.randn(12).reshape((3,4))\n",
    "print(A)\n",
    "print(A.shape)\n",
    "B = torch.tensor([[2.0, 1, 4, 3], [1, 2, 3, 4], [4, 3, 2, 1]])\n",
    "print(B)\n",
    "print(B.shape)"
   ]
  },
  {
   "cell_type": "code",
   "execution_count": 62,
   "id": "be5c6d74-2dc7-4b0f-9a10-64573dff6560",
   "metadata": {},
   "outputs": [
    {
     "name": "stdout",
     "output_type": "stream",
     "text": [
      "tensor([[-0.0799, -0.1928,  0.1779,  0.3879],\n",
      "        [-0.3728,  1.0827,  0.4407, -0.2011],\n",
      "        [-0.4438,  1.5737, -0.6165, -0.4128],\n",
      "        [ 2.0000,  1.0000,  4.0000,  3.0000],\n",
      "        [ 1.0000,  2.0000,  3.0000,  4.0000],\n",
      "        [ 4.0000,  3.0000,  2.0000,  1.0000]])\n",
      "torch.Size([6, 4])\n"
     ]
    }
   ],
   "source": [
    "# concatenation along rows (Axis = 0)\n",
    "C = torch.cat((A,B), dim = 0)\n",
    "print(C)\n",
    "print(C.shape)"
   ]
  },
  {
   "cell_type": "code",
   "execution_count": 63,
   "id": "440a29d8-954b-44ad-8efb-5b6d37f64fbb",
   "metadata": {},
   "outputs": [
    {
     "name": "stdout",
     "output_type": "stream",
     "text": [
      "tensor([[-0.0799, -0.1928,  0.1779,  0.3879,  2.0000,  1.0000,  4.0000,  3.0000],\n",
      "        [-0.3728,  1.0827,  0.4407, -0.2011,  1.0000,  2.0000,  3.0000,  4.0000],\n",
      "        [-0.4438,  1.5737, -0.6165, -0.4128,  4.0000,  3.0000,  2.0000,  1.0000]])\n",
      "torch.Size([3, 8])\n"
     ]
    }
   ],
   "source": [
    "# concatenation along columns (Axis =1)\n",
    "D = torch.cat((A,B), dim = 1)\n",
    "print(D)\n",
    "print(D.shape)"
   ]
  },
  {
   "cell_type": "code",
   "execution_count": 64,
   "id": "d9ee72cf-55ef-4d69-b605-a0c18f707c05",
   "metadata": {},
   "outputs": [
    {
     "name": "stdout",
     "output_type": "stream",
     "text": [
      "tensor([[False, False, False, False],\n",
      "        [False, False, False, False],\n",
      "        [False, False, False, False]])\n"
     ]
    }
   ],
   "source": [
    "print(A == B)"
   ]
  },
  {
   "cell_type": "code",
   "execution_count": 66,
   "id": "0bf48ebf-e90a-45c6-9ee4-b31becb0af96",
   "metadata": {},
   "outputs": [
    {
     "data": {
      "text/plain": [
       "tensor(31.3435)"
      ]
     },
     "execution_count": 66,
     "metadata": {},
     "output_type": "execute_result"
    }
   ],
   "source": [
    "# sum of all the elements of the tensor\n",
    "C.sum() "
   ]
  },
  {
   "cell_type": "markdown",
   "id": "f7efd296-dbdd-4e1e-afb5-8446b6e8710e",
   "metadata": {},
   "source": [
    "## **4. *Broadcasting***\n",
    "\n",
    "- When shapes of two tensors differ, we can perform elementwise binary operations using $broadcasting \\ mechanism$\n",
    "- *broadcasting* is a two-step process:\n",
    "    - expand one or both arrays bu copying elements along axis with length 1 so after transformation, the tw otensors have same shape\n",
    "    - perfrom an elementwise operation on the resulting arrays"
   ]
  },
  {
   "cell_type": "code",
   "execution_count": 70,
   "id": "8202d4c8-1f37-4f89-97aa-413b943a4d36",
   "metadata": {},
   "outputs": [
    {
     "data": {
      "text/plain": [
       "(tensor([[0],\n",
       "         [1],\n",
       "         [2]]),\n",
       " tensor([[0, 1]]))"
      ]
     },
     "execution_count": 70,
     "metadata": {},
     "output_type": "execute_result"
    }
   ],
   "source": [
    "a = torch.arange(3).reshape((3,1))\n",
    "b = torch.arange(2).reshape((1,2))\n",
    "a, b"
   ]
  },
  {
   "cell_type": "code",
   "execution_count": 72,
   "id": "069e73c3-8a31-40d3-8294-09b631350fea",
   "metadata": {},
   "outputs": [
    {
     "data": {
      "text/plain": [
       "tensor([[0, 1],\n",
       "        [1, 2],\n",
       "        [2, 3]])"
      ]
     },
     "execution_count": 72,
     "metadata": {},
     "output_type": "execute_result"
    }
   ],
   "source": [
    "#Since a and b are 3 × 1 and 1 × 2 matrices, respectively, their shapes do not match up.\n",
    "#Broadcasting produces a larger 3 × 2 matrix by replicating matrix a along the columns and\n",
    "#matrix b along the rows before adding them elementwise\n",
    "a + b\n"
   ]
  },
  {
   "cell_type": "code",
   "execution_count": null,
   "id": "ff0f4c63-b276-4aa3-ac9f-c90725f9dd7e",
   "metadata": {},
   "outputs": [],
   "source": []
  }
 ],
 "metadata": {
  "kernelspec": {
   "display_name": "Python 3 (ipykernel)",
   "language": "python",
   "name": "python3"
  },
  "language_info": {
   "codemirror_mode": {
    "name": "ipython",
    "version": 3
   },
   "file_extension": ".py",
   "mimetype": "text/x-python",
   "name": "python",
   "nbconvert_exporter": "python",
   "pygments_lexer": "ipython3",
   "version": "3.9.13"
  }
 },
 "nbformat": 4,
 "nbformat_minor": 5
}
